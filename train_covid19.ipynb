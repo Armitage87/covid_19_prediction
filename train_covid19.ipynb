{
  "nbformat": 4,
  "nbformat_minor": 0,
  "metadata": {
    "colab": {
      "name": "train_covid19.ipynb",
      "provenance": [],
      "authorship_tag": "ABX9TyM0mwmalUnuKJyWMzwqDnw5"
    },
    "kernelspec": {
      "name": "python3",
      "display_name": "Python 3"
    },
    "accelerator": "GPU"
  },
  "cells": [
    {
      "cell_type": "code",
      "metadata": {
        "id": "Ah7e5rZutnAb",
        "colab_type": "code",
        "colab": {}
      },
      "source": [
        "from google.colab import drive\n",
        "drive.mount('/content/gdrive', force_remount=True)\n",
        "root_dir = \"/content/gdrive/My Drive/\"\n",
        "base_dir = root_dir + 'tensor_flow/'"
      ],
      "execution_count": 0,
      "outputs": []
    },
    {
      "cell_type": "code",
      "metadata": {
        "id": "gnfPU-lfB5U8",
        "colab_type": "code",
        "colab": {
          "base_uri": "https://localhost:8080/",
          "height": 927
        },
        "outputId": "4ade8e1d-0a41-496a-9dad-c92a9e732336"
      },
      "source": [
        "!pip install --upgrade tensorflow"
      ],
      "execution_count": 2,
      "outputs": [
        {
          "output_type": "stream",
          "text": [
            "Collecting tensorflow\n",
            "\u001b[?25l  Downloading https://files.pythonhosted.org/packages/85/d4/c0cd1057b331bc38b65478302114194bd8e1b9c2bbc06e300935c0e93d90/tensorflow-2.1.0-cp36-cp36m-manylinux2010_x86_64.whl (421.8MB)\n",
            "\u001b[K     |████████████████████████████████| 421.8MB 40kB/s \n",
            "\u001b[?25hRequirement already satisfied, skipping upgrade: grpcio>=1.8.6 in /usr/local/lib/python3.6/dist-packages (from tensorflow) (1.24.3)\n",
            "Requirement already satisfied, skipping upgrade: scipy==1.4.1; python_version >= \"3\" in /usr/local/lib/python3.6/dist-packages (from tensorflow) (1.4.1)\n",
            "Requirement already satisfied, skipping upgrade: six>=1.12.0 in /usr/local/lib/python3.6/dist-packages (from tensorflow) (1.12.0)\n",
            "Requirement already satisfied, skipping upgrade: absl-py>=0.7.0 in /usr/local/lib/python3.6/dist-packages (from tensorflow) (0.9.0)\n",
            "Collecting tensorboard<2.2.0,>=2.1.0\n",
            "\u001b[?25l  Downloading https://files.pythonhosted.org/packages/d9/41/bbf49b61370e4f4d245d4c6051dfb6db80cec672605c91b1652ac8cc3d38/tensorboard-2.1.1-py3-none-any.whl (3.8MB)\n",
            "\u001b[K     |████████████████████████████████| 3.9MB 26.8MB/s \n",
            "\u001b[?25hRequirement already satisfied, skipping upgrade: protobuf>=3.8.0 in /usr/local/lib/python3.6/dist-packages (from tensorflow) (3.10.0)\n",
            "Requirement already satisfied, skipping upgrade: numpy<2.0,>=1.16.0 in /usr/local/lib/python3.6/dist-packages (from tensorflow) (1.18.1)\n",
            "Collecting tensorflow-estimator<2.2.0,>=2.1.0rc0\n",
            "\u001b[?25l  Downloading https://files.pythonhosted.org/packages/18/90/b77c328a1304437ab1310b463e533fa7689f4bfc41549593056d812fab8e/tensorflow_estimator-2.1.0-py2.py3-none-any.whl (448kB)\n",
            "\u001b[K     |████████████████████████████████| 450kB 52.0MB/s \n",
            "\u001b[?25hRequirement already satisfied, skipping upgrade: astor>=0.6.0 in /usr/local/lib/python3.6/dist-packages (from tensorflow) (0.8.1)\n",
            "Requirement already satisfied, skipping upgrade: gast==0.2.2 in /usr/local/lib/python3.6/dist-packages (from tensorflow) (0.2.2)\n",
            "Requirement already satisfied, skipping upgrade: keras-applications>=1.0.8 in /usr/local/lib/python3.6/dist-packages (from tensorflow) (1.0.8)\n",
            "Requirement already satisfied, skipping upgrade: keras-preprocessing>=1.1.0 in /usr/local/lib/python3.6/dist-packages (from tensorflow) (1.1.0)\n",
            "Requirement already satisfied, skipping upgrade: wheel>=0.26; python_version >= \"3\" in /usr/local/lib/python3.6/dist-packages (from tensorflow) (0.34.2)\n",
            "Requirement already satisfied, skipping upgrade: google-pasta>=0.1.6 in /usr/local/lib/python3.6/dist-packages (from tensorflow) (0.1.8)\n",
            "Requirement already satisfied, skipping upgrade: termcolor>=1.1.0 in /usr/local/lib/python3.6/dist-packages (from tensorflow) (1.1.0)\n",
            "Requirement already satisfied, skipping upgrade: opt-einsum>=2.3.2 in /usr/local/lib/python3.6/dist-packages (from tensorflow) (3.2.0)\n",
            "Requirement already satisfied, skipping upgrade: wrapt>=1.11.1 in /usr/local/lib/python3.6/dist-packages (from tensorflow) (1.12.1)\n",
            "Requirement already satisfied, skipping upgrade: requests<3,>=2.21.0 in /usr/local/lib/python3.6/dist-packages (from tensorboard<2.2.0,>=2.1.0->tensorflow) (2.21.0)\n",
            "Requirement already satisfied, skipping upgrade: google-auth-oauthlib<0.5,>=0.4.1 in /usr/local/lib/python3.6/dist-packages (from tensorboard<2.2.0,>=2.1.0->tensorflow) (0.4.1)\n",
            "Requirement already satisfied, skipping upgrade: setuptools>=41.0.0 in /usr/local/lib/python3.6/dist-packages (from tensorboard<2.2.0,>=2.1.0->tensorflow) (45.2.0)\n",
            "Requirement already satisfied, skipping upgrade: werkzeug>=0.11.15 in /usr/local/lib/python3.6/dist-packages (from tensorboard<2.2.0,>=2.1.0->tensorflow) (1.0.0)\n",
            "Requirement already satisfied, skipping upgrade: google-auth<2,>=1.6.3 in /usr/local/lib/python3.6/dist-packages (from tensorboard<2.2.0,>=2.1.0->tensorflow) (1.7.2)\n",
            "Requirement already satisfied, skipping upgrade: markdown>=2.6.8 in /usr/local/lib/python3.6/dist-packages (from tensorboard<2.2.0,>=2.1.0->tensorflow) (3.2.1)\n",
            "Requirement already satisfied, skipping upgrade: h5py in /usr/local/lib/python3.6/dist-packages (from keras-applications>=1.0.8->tensorflow) (2.8.0)\n",
            "Requirement already satisfied, skipping upgrade: chardet<3.1.0,>=3.0.2 in /usr/local/lib/python3.6/dist-packages (from requests<3,>=2.21.0->tensorboard<2.2.0,>=2.1.0->tensorflow) (3.0.4)\n",
            "Requirement already satisfied, skipping upgrade: urllib3<1.25,>=1.21.1 in /usr/local/lib/python3.6/dist-packages (from requests<3,>=2.21.0->tensorboard<2.2.0,>=2.1.0->tensorflow) (1.24.3)\n",
            "Requirement already satisfied, skipping upgrade: idna<2.9,>=2.5 in /usr/local/lib/python3.6/dist-packages (from requests<3,>=2.21.0->tensorboard<2.2.0,>=2.1.0->tensorflow) (2.8)\n",
            "Requirement already satisfied, skipping upgrade: certifi>=2017.4.17 in /usr/local/lib/python3.6/dist-packages (from requests<3,>=2.21.0->tensorboard<2.2.0,>=2.1.0->tensorflow) (2019.11.28)\n",
            "Requirement already satisfied, skipping upgrade: requests-oauthlib>=0.7.0 in /usr/local/lib/python3.6/dist-packages (from google-auth-oauthlib<0.5,>=0.4.1->tensorboard<2.2.0,>=2.1.0->tensorflow) (1.3.0)\n",
            "Requirement already satisfied, skipping upgrade: cachetools<3.2,>=2.0.0 in /usr/local/lib/python3.6/dist-packages (from google-auth<2,>=1.6.3->tensorboard<2.2.0,>=2.1.0->tensorflow) (3.1.1)\n",
            "Requirement already satisfied, skipping upgrade: pyasn1-modules>=0.2.1 in /usr/local/lib/python3.6/dist-packages (from google-auth<2,>=1.6.3->tensorboard<2.2.0,>=2.1.0->tensorflow) (0.2.8)\n",
            "Requirement already satisfied, skipping upgrade: rsa<4.1,>=3.1.4 in /usr/local/lib/python3.6/dist-packages (from google-auth<2,>=1.6.3->tensorboard<2.2.0,>=2.1.0->tensorflow) (4.0)\n",
            "Requirement already satisfied, skipping upgrade: oauthlib>=3.0.0 in /usr/local/lib/python3.6/dist-packages (from requests-oauthlib>=0.7.0->google-auth-oauthlib<0.5,>=0.4.1->tensorboard<2.2.0,>=2.1.0->tensorflow) (3.1.0)\n",
            "Requirement already satisfied, skipping upgrade: pyasn1<0.5.0,>=0.4.6 in /usr/local/lib/python3.6/dist-packages (from pyasn1-modules>=0.2.1->google-auth<2,>=1.6.3->tensorboard<2.2.0,>=2.1.0->tensorflow) (0.4.8)\n",
            "\u001b[31mERROR: tensorflow-federated 0.12.0 has requirement tensorflow-addons~=0.7.0, but you'll have tensorflow-addons 0.8.3 which is incompatible.\u001b[0m\n",
            "Installing collected packages: tensorboard, tensorflow-estimator, tensorflow\n",
            "  Found existing installation: tensorboard 1.15.0\n",
            "    Uninstalling tensorboard-1.15.0:\n",
            "      Successfully uninstalled tensorboard-1.15.0\n",
            "  Found existing installation: tensorflow-estimator 1.15.1\n",
            "    Uninstalling tensorflow-estimator-1.15.1:\n",
            "      Successfully uninstalled tensorflow-estimator-1.15.1\n",
            "  Found existing installation: tensorflow 1.15.0\n",
            "    Uninstalling tensorflow-1.15.0:\n",
            "      Successfully uninstalled tensorflow-1.15.0\n",
            "Successfully installed tensorboard-2.1.1 tensorflow-2.1.0 tensorflow-estimator-2.1.0\n"
          ],
          "name": "stdout"
        }
      ]
    },
    {
      "cell_type": "code",
      "metadata": {
        "id": "xtOcIfhswlUk",
        "colab_type": "code",
        "colab": {}
      },
      "source": [
        "from tensorflow.keras.preprocessing.image import ImageDataGenerator\n",
        "from tensorflow.keras.applications import VGG16\n",
        "from tensorflow.keras.layers import AveragePooling2D\n",
        "from tensorflow.keras.layers import Dropout\n",
        "from tensorflow.keras.layers import Flatten\n",
        "from tensorflow.keras.layers import Dense\n",
        "from tensorflow.keras.layers import Input\n",
        "from tensorflow.keras.models import Model\n",
        "from tensorflow.keras.optimizers import Adam\n",
        "from tensorflow.keras.utils import to_categorical\n",
        "from sklearn.preprocessing import LabelBinarizer\n",
        "from sklearn.model_selection import train_test_split\n",
        "from sklearn.metrics import classification_report\n",
        "from sklearn.metrics import confusion_matrix\n",
        "from imutils import paths\n",
        "import matplotlib.pyplot as plt\n",
        "import numpy as np\n",
        "import argparse\n",
        "import cv2\n",
        "import os"
      ],
      "execution_count": 0,
      "outputs": []
    },
    {
      "cell_type": "code",
      "metadata": {
        "id": "dhX5fkRKw-ec",
        "colab_type": "code",
        "colab": {}
      },
      "source": [
        "dataset = base_dir + 'dataset/'"
      ],
      "execution_count": 0,
      "outputs": []
    },
    {
      "cell_type": "code",
      "metadata": {
        "id": "y7MCeFDpBI_Z",
        "colab_type": "code",
        "colab": {}
      },
      "source": [
        "INIT_LR = 1e-3\n",
        "EPOCHS = 25\n",
        "BS = 8"
      ],
      "execution_count": 0,
      "outputs": []
    },
    {
      "cell_type": "code",
      "metadata": {
        "id": "tr1Oj9jRLv-k",
        "colab_type": "code",
        "colab": {}
      },
      "source": [
        "image_paths = list(paths.list_images(dataset))\n",
        "print(image_paths)\n",
        "data = []\n",
        "labels = []\n",
        "for image_path in image_paths:\n",
        "  label = image_path.split(os.path.sep)[-2]\n",
        "  image = cv2.imread(image_path)\n",
        "  image = cv2.cvtColor(image, cv2.COLOR_BGR2RGB)\n",
        "  image = cv2.resize(image, (224, 224))\n",
        "\n",
        "  data.append(image)\n",
        "  labels.append(label)\n"
      ],
      "execution_count": 0,
      "outputs": []
    },
    {
      "cell_type": "code",
      "metadata": {
        "id": "46CL0a5nMWXH",
        "colab_type": "code",
        "colab": {}
      },
      "source": [
        "data = np.array(data) / 255.0\n",
        "labels = np.array(labels)"
      ],
      "execution_count": 0,
      "outputs": []
    },
    {
      "cell_type": "code",
      "metadata": {
        "id": "szPFtJL9NzDD",
        "colab_type": "code",
        "colab": {
          "base_uri": "https://localhost:8080/",
          "height": 857
        },
        "outputId": "67bafd8c-20ea-41a4-aa88-ef9e56bfea43"
      },
      "source": [
        "lb = LabelBinarizer()\n",
        "labels = lb.fit_transform(labels)\n",
        "labels = to_categorical(labels)\n",
        "print(labels)"
      ],
      "execution_count": 18,
      "outputs": [
        {
          "output_type": "stream",
          "text": [
            "[[1. 0.]\n",
            " [1. 0.]\n",
            " [1. 0.]\n",
            " [1. 0.]\n",
            " [1. 0.]\n",
            " [1. 0.]\n",
            " [1. 0.]\n",
            " [1. 0.]\n",
            " [1. 0.]\n",
            " [1. 0.]\n",
            " [1. 0.]\n",
            " [1. 0.]\n",
            " [1. 0.]\n",
            " [1. 0.]\n",
            " [1. 0.]\n",
            " [1. 0.]\n",
            " [1. 0.]\n",
            " [1. 0.]\n",
            " [1. 0.]\n",
            " [1. 0.]\n",
            " [1. 0.]\n",
            " [1. 0.]\n",
            " [1. 0.]\n",
            " [1. 0.]\n",
            " [1. 0.]\n",
            " [0. 1.]\n",
            " [0. 1.]\n",
            " [0. 1.]\n",
            " [0. 1.]\n",
            " [0. 1.]\n",
            " [0. 1.]\n",
            " [0. 1.]\n",
            " [0. 1.]\n",
            " [0. 1.]\n",
            " [0. 1.]\n",
            " [0. 1.]\n",
            " [0. 1.]\n",
            " [0. 1.]\n",
            " [0. 1.]\n",
            " [0. 1.]\n",
            " [0. 1.]\n",
            " [0. 1.]\n",
            " [0. 1.]\n",
            " [0. 1.]\n",
            " [0. 1.]\n",
            " [0. 1.]\n",
            " [0. 1.]\n",
            " [0. 1.]\n",
            " [0. 1.]\n",
            " [0. 1.]]\n"
          ],
          "name": "stdout"
        }
      ]
    },
    {
      "cell_type": "code",
      "metadata": {
        "id": "BwP3RcTnOXqO",
        "colab_type": "code",
        "colab": {}
      },
      "source": [
        "(trainX, testX, trainY, testY) = train_test_split(data, labels, test_size=0.20, stratify=labels, random_state=42)\n",
        "\n",
        "train_augment = ImageDataGenerator(rotation_range=15, fill_mode=\"nearest\")"
      ],
      "execution_count": 0,
      "outputs": []
    },
    {
      "cell_type": "code",
      "metadata": {
        "id": "SlmvEf9tPfNW",
        "colab_type": "code",
        "colab": {}
      },
      "source": [
        "base_model = VGG16(weights=\"imagenet\", include_top=False, input_tensor=Input(shape=(224, 224, 3)))\n",
        "\n",
        "head_model = base_model.output\n",
        "head_model = AveragePooling2D(pool_size=(4, 4)) (head_model)\n",
        "head_model = Flatten(name=\"flatten\") (head_model)\n",
        "head_model = Dense(64, activation=\"relu\") (head_model)\n",
        "head_model = Dropout(0.5) (head_model)\n",
        "head_model = Dense(2, activation=\"softmax\") (head_model)\n",
        "\n",
        "model = Model(inputs=base_model.input, outputs=head_model)\n",
        "\n",
        "for layer in base_model.layers:\n",
        "  layer.trainable = False"
      ],
      "execution_count": 0,
      "outputs": []
    },
    {
      "cell_type": "code",
      "metadata": {
        "id": "WKFy7BeEiWzt",
        "colab_type": "code",
        "colab": {
          "base_uri": "https://localhost:8080/",
          "height": 941
        },
        "outputId": "f2f76192-3c53-4d34-cbcf-4525dda6cc72"
      },
      "source": [
        "opt = Adam(lr=INIT_LR, decay=INIT_LR / EPOCHS)\n",
        "model.compile(loss=\"binary_crossentropy\", optimizer=opt, metrics=['accuracy'])\n",
        "\n",
        "head = model.fit_generator(train_augment.flow(trainX, trainY, batch_size=BS), \n",
        "                          steps_per_epoch=len(trainX) // BS,\n",
        "                          validation_data=(testX, testY), \n",
        "                          validation_steps=len(testX) // BS,\n",
        "                          epochs=EPOCHS)"
      ],
      "execution_count": 21,
      "outputs": [
        {
          "output_type": "stream",
          "text": [
            "WARNING:tensorflow:sample_weight modes were coerced from\n",
            "  ...\n",
            "    to  \n",
            "  ['...']\n",
            "Train for 5 steps, validate on 10 samples\n",
            "Epoch 1/25\n",
            "5/5 [==============================] - 7s 1s/step - loss: 1.0424 - accuracy: 0.4000 - val_loss: 0.4774 - val_accuracy: 1.0000\n",
            "Epoch 2/25\n",
            "5/5 [==============================] - 1s 112ms/step - loss: 0.7444 - accuracy: 0.5000 - val_loss: 0.4729 - val_accuracy: 1.0000\n",
            "Epoch 3/25\n",
            "5/5 [==============================] - 1s 111ms/step - loss: 0.7803 - accuracy: 0.4750 - val_loss: 0.4723 - val_accuracy: 1.0000\n",
            "Epoch 4/25\n",
            "5/5 [==============================] - 1s 110ms/step - loss: 0.7004 - accuracy: 0.5250 - val_loss: 0.4669 - val_accuracy: 1.0000\n",
            "Epoch 5/25\n",
            "5/5 [==============================] - 1s 115ms/step - loss: 0.6304 - accuracy: 0.6250 - val_loss: 0.4623 - val_accuracy: 1.0000\n",
            "Epoch 6/25\n",
            "5/5 [==============================] - 1s 111ms/step - loss: 0.6263 - accuracy: 0.6000 - val_loss: 0.4607 - val_accuracy: 1.0000\n",
            "Epoch 7/25\n",
            "5/5 [==============================] - 1s 113ms/step - loss: 0.6368 - accuracy: 0.5500 - val_loss: 0.4650 - val_accuracy: 0.7500\n",
            "Epoch 8/25\n",
            "5/5 [==============================] - 1s 114ms/step - loss: 0.6537 - accuracy: 0.6250 - val_loss: 0.4801 - val_accuracy: 0.6250\n",
            "Epoch 9/25\n",
            "5/5 [==============================] - 1s 115ms/step - loss: 0.5805 - accuracy: 0.7000 - val_loss: 0.4619 - val_accuracy: 0.7500\n",
            "Epoch 10/25\n",
            "5/5 [==============================] - 1s 115ms/step - loss: 0.5545 - accuracy: 0.8000 - val_loss: 0.4435 - val_accuracy: 1.0000\n",
            "Epoch 11/25\n",
            "5/5 [==============================] - 1s 111ms/step - loss: 0.5854 - accuracy: 0.7250 - val_loss: 0.4367 - val_accuracy: 1.0000\n",
            "Epoch 12/25\n",
            "5/5 [==============================] - 1s 111ms/step - loss: 0.5241 - accuracy: 0.7750 - val_loss: 0.4386 - val_accuracy: 0.8750\n",
            "Epoch 13/25\n",
            "5/5 [==============================] - 1s 114ms/step - loss: 0.5246 - accuracy: 0.8000 - val_loss: 0.4329 - val_accuracy: 0.8750\n",
            "Epoch 14/25\n",
            "5/5 [==============================] - 1s 113ms/step - loss: 0.4892 - accuracy: 0.9000 - val_loss: 0.4295 - val_accuracy: 0.8750\n",
            "Epoch 15/25\n",
            "5/5 [==============================] - 1s 110ms/step - loss: 0.5012 - accuracy: 0.7500 - val_loss: 0.4267 - val_accuracy: 0.8750\n",
            "Epoch 16/25\n",
            "5/5 [==============================] - 1s 114ms/step - loss: 0.4351 - accuracy: 0.9000 - val_loss: 0.4160 - val_accuracy: 0.8750\n",
            "Epoch 17/25\n",
            "5/5 [==============================] - 1s 111ms/step - loss: 0.5262 - accuracy: 0.8000 - val_loss: 0.4064 - val_accuracy: 0.8750\n",
            "Epoch 18/25\n",
            "5/5 [==============================] - 1s 111ms/step - loss: 0.4887 - accuracy: 0.8250 - val_loss: 0.4051 - val_accuracy: 0.8750\n",
            "Epoch 19/25\n",
            "5/5 [==============================] - 1s 109ms/step - loss: 0.4498 - accuracy: 0.8000 - val_loss: 0.3952 - val_accuracy: 0.8750\n",
            "Epoch 20/25\n",
            "5/5 [==============================] - 1s 113ms/step - loss: 0.3936 - accuracy: 0.9000 - val_loss: 0.3907 - val_accuracy: 0.8750\n",
            "Epoch 21/25\n",
            "5/5 [==============================] - 1s 111ms/step - loss: 0.4241 - accuracy: 0.8500 - val_loss: 0.3940 - val_accuracy: 0.8750\n",
            "Epoch 22/25\n",
            "5/5 [==============================] - 1s 109ms/step - loss: 0.3715 - accuracy: 0.8750 - val_loss: 0.3856 - val_accuracy: 0.8750\n",
            "Epoch 23/25\n",
            "5/5 [==============================] - 1s 113ms/step - loss: 0.3855 - accuracy: 0.8500 - val_loss: 0.3725 - val_accuracy: 0.8750\n",
            "Epoch 24/25\n",
            "5/5 [==============================] - 1s 109ms/step - loss: 0.3713 - accuracy: 0.9000 - val_loss: 0.3653 - val_accuracy: 0.8750\n",
            "Epoch 25/25\n",
            "5/5 [==============================] - 1s 111ms/step - loss: 0.3340 - accuracy: 0.9750 - val_loss: 0.3640 - val_accuracy: 0.8750\n"
          ],
          "name": "stdout"
        }
      ]
    },
    {
      "cell_type": "code",
      "metadata": {
        "id": "IKx3kPFekr8W",
        "colab_type": "code",
        "colab": {
          "base_uri": "https://localhost:8080/",
          "height": 168
        },
        "outputId": "0908c766-d3e2-45c1-81e9-22ad8d24dec3"
      },
      "source": [
        "pred_idxs = model.predict(testX, batch_size=BS)\n",
        "pred_idxs = np.argmax(pred_idxs, axis=1)\n",
        "print(classification_report(testY.argmax(axis=1), pred_idxs, target_names=lb.classes_))"
      ],
      "execution_count": 23,
      "outputs": [
        {
          "output_type": "stream",
          "text": [
            "              precision    recall  f1-score   support\n",
            "\n",
            "       covid       0.83      1.00      0.91         5\n",
            "      normal       1.00      0.80      0.89         5\n",
            "\n",
            "    accuracy                           0.90        10\n",
            "   macro avg       0.92      0.90      0.90        10\n",
            "weighted avg       0.92      0.90      0.90        10\n",
            "\n"
          ],
          "name": "stdout"
        }
      ]
    },
    {
      "cell_type": "code",
      "metadata": {
        "id": "NmcP9kBcnKTN",
        "colab_type": "code",
        "colab": {
          "base_uri": "https://localhost:8080/",
          "height": 101
        },
        "outputId": "ac860c25-ae6f-4028-e9a3-868f789b10fd"
      },
      "source": [
        "cm = confusion_matrix(testY.argmax(axis=1), pred_idxs)\n",
        "total = sum(sum(cm))\n",
        "acc = (cm[0, 0] + cm[1, 1]) / total\n",
        "sensitivity = cm[0, 0] / (cm[0, 0] + cm[0, 1])\n",
        "specificity = cm[1, 1] / (cm[1, 0] + cm[1, 1])\n",
        "\n",
        "print(cm)\n",
        "print(\"acc: {:.4f}\".format(acc))\n",
        "print(\"sensitivity: {:.4f}\".format(sensitivity))\n",
        "print(\"specificity: {:.4f}\".format(specificity))"
      ],
      "execution_count": 24,
      "outputs": [
        {
          "output_type": "stream",
          "text": [
            "[[5 0]\n",
            " [1 4]]\n",
            "acc: 0.9000\n",
            "sensitivity: 1.0000\n",
            "specificity: 0.8000\n"
          ],
          "name": "stdout"
        }
      ]
    },
    {
      "cell_type": "code",
      "metadata": {
        "id": "dbBSyD6xpSUF",
        "colab_type": "code",
        "colab": {
          "base_uri": "https://localhost:8080/",
          "height": 299
        },
        "outputId": "9eb6764b-7978-48f6-e384-3c42dcc02b14"
      },
      "source": [
        "N = EPOCHS\n",
        "plt.style.use(\"ggplot\")\n",
        "plt.figure()\n",
        "plt.plot(np.arange(0, N), head.history[\"loss\"], label=\"train_loss\")\n",
        "plt.plot(np.arange(0, N), head.history[\"val_loss\"], label=\"val_loss\")\n",
        "plt.plot(np.arange(0, N), head.history[\"accuracy\"], label=\"train_acc\")\n",
        "plt.plot(np.arange(0, N), head.history[\"val_accuracy\"], label=\"val_acc\")\n",
        "plt.title(\"Training Loss and Accuracy on COVID-19 Dataset\")\n",
        "plt.xlabel(\"Epoch #\")\n",
        "plt.ylabel(\"Loss/Accuracy\")\n",
        "plt.legend(loc=\"lower left\")\n",
        "plt.savefig(base_dir)"
      ],
      "execution_count": 26,
      "outputs": [
        {
          "output_type": "display_data",
          "data": {
            "image/png": "[encoded data removed]",
            "text/plain": [
              "<Figure size 432x288 with 1 Axes>"
            ]
          },
          "metadata": {
            "tags": []
          }
        }
      ]
    },
    {
      "cell_type": "code",
      "metadata": {
        "id": "VZPA3iEJpzr5",
        "colab_type": "code",
        "colab": {}
      },
      "source": [
        "model.save(base_dir + 'covid19.model', save_format='h5')"
      ],
      "execution_count": 0,
      "outputs": []
    },
    {
      "cell_type": "code",
      "metadata": {
        "id": "MwXkvO32q3sI",
        "colab_type": "code",
        "colab": {}
      },
      "source": [
        ""
      ],
      "execution_count": 0,
      "outputs": []
    }
  ]
}